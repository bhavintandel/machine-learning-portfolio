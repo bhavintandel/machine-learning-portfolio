{
  "nbformat": 4,
  "nbformat_minor": 0,
  "metadata": {
    "colab": {
      "name": "Exercise 3 - Question.ipynb",
      "version": "0.3.2",
      "provenance": [],
      "collapsed_sections": [],
      "include_colab_link": true
    },
    "kernelspec": {
      "name": "python3",
      "display_name": "Python 3"
    }
  },
  "cells": [
    {
      "cell_type": "markdown",
      "metadata": {
        "id": "view-in-github",
        "colab_type": "text"
      },
      "source": [
        "<a href=\"https://colab.research.google.com/github/bhavintandel/machine-learning-portfolio/blob/master/MOOC/TensorflowForAiMlDl/Exercise_3_Question.ipynb\" target=\"_parent\"><img src=\"https://colab.research.google.com/assets/colab-badge.svg\" alt=\"Open In Colab\"/></a>"
      ]
    },
    {
      "cell_type": "markdown",
      "metadata": {
        "id": "iQjHqsmTAVLU",
        "colab_type": "text"
      },
      "source": [
        "## Exercise 3\n",
        "In the videos you looked at how you would improve Fashion MNIST using Convolutions. For your exercise see if you can improve MNIST to 99.8% accuracy or more using only a single convolutional layer and a single MaxPooling 2D. You should stop training once the accuracy goes above this amount. It should happen in less than 20 epochs, so it's ok to hard code the number of epochs for training, but your training must end once it hits the above metric. If it doesn't, then you'll need to redesign your layers.\n",
        "\n",
        "I've started the code for you -- you need to finish it!\n",
        "\n",
        "When 99.8% accuracy has been hit, you should print out the string \"Reached 99.8% accuracy so cancelling training!\"\n"
      ]
    },
    {
      "cell_type": "code",
      "metadata": {
        "id": "RNJpfPkP_bYN",
        "colab_type": "code",
        "colab": {}
      },
      "source": [
        "import tensorflow as tf"
      ],
      "execution_count": 0,
      "outputs": []
    },
    {
      "cell_type": "code",
      "metadata": {
        "id": "sfQRyaJWAIdg",
        "colab_type": "code",
        "outputId": "a135fcdb-a04a-4675-f3ca-a52c66ed68d7",
        "colab": {
          "base_uri": "https://localhost:8080/",
          "height": 50
        }
      },
      "source": [
        "\n",
        "mnist = tf.keras.datasets.mnist\n",
        "(training_images, training_labels), (test_images, test_labels) = mnist.load_data()\n",
        "\n"
      ],
      "execution_count": 0,
      "outputs": [
        {
          "output_type": "stream",
          "text": [
            "Downloading data from https://storage.googleapis.com/tensorflow/tf-keras-datasets/mnist.npz\n",
            "11493376/11490434 [==============================] - 0s 0us/step\n"
          ],
          "name": "stdout"
        }
      ]
    },
    {
      "cell_type": "code",
      "metadata": {
        "id": "l4em9vfLASWZ",
        "colab_type": "code",
        "colab": {}
      },
      "source": [
        "training_images = training_images.reshape(60000, 28, 28, 1)\n",
        "test_images = test_images.reshape(10000, 28, 28, 1)\n",
        "training_images = training_images / 255.0\n",
        "test_images = test_images / 255.0"
      ],
      "execution_count": 0,
      "outputs": []
    },
    {
      "cell_type": "code",
      "metadata": {
        "id": "1CXBitOw_9Y1",
        "colab_type": "code",
        "colab": {}
      },
      "source": [
        "model = tf.keras.models.Sequential([\n",
        "    tf.keras.layers.Conv2D(64, (2, 2), activation='relu', input_shape = (28, 28, 1)),\n",
        "    tf.keras.layers.MaxPooling2D(2,2),\n",
        "    tf.keras.layers.Flatten(),\n",
        "    tf.keras.layers.Dense(128, activation='relu'),\n",
        "    tf.keras.layers.Dense(10, activation='softmax')\n",
        "])"
      ],
      "execution_count": 0,
      "outputs": []
    },
    {
      "cell_type": "code",
      "metadata": {
        "id": "4ThqkS-9_U5W",
        "colab_type": "code",
        "colab": {}
      },
      "source": [
        "class CustomCallback(tf.keras.callbacks.Callback):\n",
        "  def on_epoch_end(self, epoch, logs={}):\n",
        "    if(logs.get('acc') >= 0.998):\n",
        "      print(\"\\nAccuracy above 99.8%, exiting!\")\n",
        "      self.model.stop_training = True"
      ],
      "execution_count": 0,
      "outputs": []
    },
    {
      "cell_type": "code",
      "metadata": {
        "id": "vRDnYeqABjEi",
        "colab_type": "code",
        "outputId": "27681ec7-c8c3-4ad5-d9ec-c60e03839502",
        "colab": {
          "base_uri": "https://localhost:8080/",
          "height": 368
        }
      },
      "source": [
        "acc_callback = CustomCallback()\n",
        "model.compile(optimizer='adam', loss='sparse_categorical_crossentropy', metrics=['accuracy'])\n",
        "model.fit(training_images, training_labels, epochs=20, callbacks=[acc_callback])"
      ],
      "execution_count": 0,
      "outputs": [
        {
          "output_type": "stream",
          "text": [
            "Epoch 1/20\n",
            "60000/60000 [==============================] - 83s 1ms/sample - loss: 0.1629 - acc: 0.9520\n",
            "Epoch 2/20\n",
            "60000/60000 [==============================] - 83s 1ms/sample - loss: 0.0573 - acc: 0.9822\n",
            "Epoch 3/20\n",
            "60000/60000 [==============================] - 82s 1ms/sample - loss: 0.0368 - acc: 0.9884\n",
            "Epoch 4/20\n",
            "60000/60000 [==============================] - 81s 1ms/sample - loss: 0.0242 - acc: 0.9925\n",
            "Epoch 5/20\n",
            "60000/60000 [==============================] - 81s 1ms/sample - loss: 0.0170 - acc: 0.9943\n",
            "Epoch 6/20\n",
            "60000/60000 [==============================] - 81s 1ms/sample - loss: 0.0113 - acc: 0.9966\n",
            "Epoch 7/20\n",
            "60000/60000 [==============================] - 81s 1ms/sample - loss: 0.0097 - acc: 0.9967\n",
            "Epoch 8/20\n",
            "60000/60000 [==============================] - 81s 1ms/sample - loss: 0.0080 - acc: 0.9975\n",
            "Epoch 9/20\n",
            "59968/60000 [============================>.] - ETA: 0s - loss: 0.0061 - acc: 0.9981\n",
            "Accuracy above 99.8%, exiting!\n",
            "60000/60000 [==============================] - 81s 1ms/sample - loss: 0.0061 - acc: 0.9981\n"
          ],
          "name": "stdout"
        },
        {
          "output_type": "execute_result",
          "data": {
            "text/plain": [
              "<tensorflow.python.keras.callbacks.History at 0x7ffa772ba6a0>"
            ]
          },
          "metadata": {
            "tags": []
          },
          "execution_count": 20
        }
      ]
    },
    {
      "cell_type": "code",
      "metadata": {
        "id": "kALRdQ9l_3DA",
        "colab_type": "code",
        "colab": {}
      },
      "source": [
        ""
      ],
      "execution_count": 0,
      "outputs": []
    }
  ]
}