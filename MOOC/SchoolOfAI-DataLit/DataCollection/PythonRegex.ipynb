{
 "cells": [
  {
   "cell_type": "code",
   "execution_count": 1,
   "metadata": {},
   "outputs": [],
   "source": [
    "import re\n",
    "import regex"
   ]
  },
  {
   "cell_type": "markdown",
   "metadata": {},
   "source": [
    "#### Compiling Regular Expression\n",
    "RegEx can be compiled into pattern object and can later be used to match it to string to find pattern"
   ]
  },
  {
   "cell_type": "code",
   "execution_count": 15,
   "metadata": {},
   "outputs": [],
   "source": [
    "# RegEx for alpha string\n",
    "alpha_validator = re.compile('[A-Za-z]+')"
   ]
  },
  {
   "cell_type": "code",
   "execution_count": 16,
   "metadata": {},
   "outputs": [
    {
     "name": "stdout",
     "output_type": "stream",
     "text": [
      "<re.Match object; span=(0, 10), match='Schoolofai'>\n"
     ]
    }
   ],
   "source": [
    "## Now lets use to find a match \n",
    "print(alpha_validator.match(\"Schoolofai\"))"
   ]
  },
  {
   "cell_type": "markdown",
   "metadata": {},
   "source": [
    "Lets define email id validator function"
   ]
  },
  {
   "cell_type": "code",
   "execution_count": 25,
   "metadata": {},
   "outputs": [],
   "source": [
    "def validate_email(email_id):\n",
    "    return bool(re.search(\"^[\\w\\.\\+\\-]+\\@[\\w\\.]+\\.[a-z]{2,3}$\", email_id))"
   ]
  },
  {
   "cell_type": "code",
   "execution_count": 26,
   "metadata": {},
   "outputs": [
    {
     "data": {
      "text/plain": [
       "True"
      ]
     },
     "execution_count": 26,
     "metadata": {},
     "output_type": "execute_result"
    }
   ],
   "source": [
    "validate_email(\"test-email@schoolofai.com\")"
   ]
  },
  {
   "cell_type": "code",
   "execution_count": 31,
   "metadata": {},
   "outputs": [
    {
     "name": "stdout",
     "output_type": "stream",
     "text": [
      "<re.Match object; span=(0, 3), match='The'>\n",
      "None\n"
     ]
    }
   ],
   "source": [
    "print(re.compile(\"\\AThe\").match(\"TheHello\"))\n",
    "print(re.compile(\"\\AThe\").match(\"HelloThe\"))"
   ]
  },
  {
   "cell_type": "code",
   "execution_count": 44,
   "metadata": {},
   "outputs": [
    {
     "name": "stdout",
     "output_type": "stream",
     "text": [
      "None\n",
      "None\n"
     ]
    }
   ],
   "source": [
    "print(re.compile(\"\\bThe\").match(\"TheHello\"))\n",
    "print(re.compile(\"\\bThe\").match(\"HelloThe\"))"
   ]
  },
  {
   "cell_type": "code",
   "execution_count": 45,
   "metadata": {},
   "outputs": [
    {
     "name": "stdout",
     "output_type": "stream",
     "text": [
      "<re.Match object; span=(0, 1), match='3'>\n",
      "<re.Match object; span=(8, 12), match='3223'>\n"
     ]
    }
   ],
   "source": [
    "print(re.compile(\"\\d\").match(\"3\"))\n",
    "print(re.compile(\"\\d+\").search(\"HelloThe3223\"))"
   ]
  },
  {
   "cell_type": "code",
   "execution_count": 46,
   "metadata": {},
   "outputs": [
    {
     "name": "stdout",
     "output_type": "stream",
     "text": [
      "None\n",
      "<re.Match object; span=(0, 8), match='HelloThe'>\n"
     ]
    }
   ],
   "source": [
    "print(re.compile(\"\\D\").match(\"3\"))\n",
    "print(re.compile(\"\\D+\").search(\"HelloThe3223\"))"
   ]
  },
  {
   "cell_type": "code",
   "execution_count": 49,
   "metadata": {},
   "outputs": [
    {
     "name": "stdout",
     "output_type": "stream",
     "text": [
      "<re.Match object; span=(0, 1), match=' '>\n",
      "<re.Match object; span=(5, 7), match='  '>\n"
     ]
    }
   ],
   "source": [
    "print(re.compile(\"\\s\").match(\" \"))\n",
    "print(re.compile(\"\\s+\").search(\"Hello  The3223\"))"
   ]
  },
  {
   "cell_type": "code",
   "execution_count": 50,
   "metadata": {},
   "outputs": [
    {
     "name": "stdout",
     "output_type": "stream",
     "text": [
      "None\n",
      "<re.Match object; span=(0, 5), match='Hello'>\n"
     ]
    }
   ],
   "source": [
    "print(re.compile(\"\\S\").match(\" \"))\n",
    "print(re.compile(\"\\S+\").search(\"Hello  The3223\"))"
   ]
  },
  {
   "cell_type": "code",
   "execution_count": 62,
   "metadata": {},
   "outputs": [
    {
     "name": "stdout",
     "output_type": "stream",
     "text": [
      "None\n",
      "<re.Match object; span=(0, 14), match='Hello  The3223'>\n"
     ]
    }
   ],
   "source": [
    "print(re.compile(\"\\w\").match(\" \"))\n",
    "print(re.compile(\"[\\w ]+\").search(\"Hello  The3223\"))"
   ]
  },
  {
   "cell_type": "code",
   "execution_count": 67,
   "metadata": {},
   "outputs": [
    {
     "name": "stdout",
     "output_type": "stream",
     "text": [
      "None\n",
      "<re.Match object; span=(10, 14), match='3223'>\n"
     ]
    }
   ],
   "source": [
    "print(re.compile(\"World\\Z\").match(\"Hello World\"))\n",
    "print(re.compile(\"3223\\Z\").search(\"Hello  The3223\"))"
   ]
  },
  {
   "cell_type": "code",
   "execution_count": null,
   "metadata": {},
   "outputs": [],
   "source": []
  }
 ],
 "metadata": {
  "kernelspec": {
   "display_name": "Python 3",
   "language": "python",
   "name": "python3"
  },
  "language_info": {
   "codemirror_mode": {
    "name": "ipython",
    "version": 3
   },
   "file_extension": ".py",
   "mimetype": "text/x-python",
   "name": "python",
   "nbconvert_exporter": "python",
   "pygments_lexer": "ipython3",
   "version": "3.7.3"
  }
 },
 "nbformat": 4,
 "nbformat_minor": 2
}
